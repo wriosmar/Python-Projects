{
 "cells": [
  {
   "cell_type": "code",
   "execution_count": null,
   "metadata": {
    "collapsed": true,
    "pycharm": {
     "is_executing": true
    }
   },
   "outputs": [],
   "source": [
    "import numpy as np\n",
    "import matplotlib.pyplot as plt\n",
    "from sklearn import datasets\n",
    "from mpl_toolkits.mplot3d import Axes3D\n",
    "\n",
    "A = np.array([[1,2], [3,4], [5,6]])\n",
    "B = np.array([[1,-1], [-1,1], [1, -1]])\n",
    "\n",
    "np.random.seed(0)\n",
    "\n",
    "space = np.linspace(0, 10, num=50)\n",
    "sine = np.sin(space)\n",
    "sine_5 = sine\n",
    "\n",
    "# 5 iterations of Gaussian noise (0 mean, 0.1 standard deviation)\n",
    "for i in range(5):\n",
    "    sine_5 = sine_5 + np.random.normal(scale = 0.1, size = 50)\n",
    "\n",
    "plt.scatter(space, sine, color = 'b', label = 'sine_curve')\n",
    "plt.plot(space, sine_5, color = 'r', label = 'noise_5_iters')\n",
    "plt.legend(loc = 'upper right')\n",
    "plt.savefig('./Q4.png')\n",
    "plt.show()"
   ]
  },
  {
   "cell_type": "code",
   "execution_count": null,
   "outputs": [],
   "source": [
    "sine_20 = sine\n",
    "\n",
    "# 20 iterations of Gaussian noise (0 mean, 0.1 standard deviation)\n",
    "for i in range(20):\n",
    "    sine_20 = sine_20 + np.random.normal(scale = 0.1, size = 50)\n",
    "\n",
    "plt.scatter(space, sine, color = 'b', label = 'sine_curve')\n",
    "plt.plot(space, sine_20, color = 'r', label = 'noise_20_iters')\n",
    "plt.legend(loc = 'upper right')\n",
    "plt.savefig('./Q4.png')\n",
    "plt.show()"
   ],
   "metadata": {
    "collapsed": false,
    "pycharm": {
     "name": "#%%\n",
     "is_executing": true
    }
   }
  },
  {
   "cell_type": "code",
   "execution_count": null,
   "outputs": [],
   "source": [
    "sine_100 = sine\n",
    "\n",
    "# 100 iterations of Gaussian noise (0 mean, 0.1 standard deviation)\n",
    "for i in range(100):\n",
    "    sine_100 = sine_100 + np.random.normal(scale = 0.1, size = 50)\n",
    "\n",
    "plt.scatter(space, sine, color = 'b', label = 'sine_curve')\n",
    "plt.plot(space, sine_100, color = 'r', label = 'noise_1000_iters')\n",
    "plt.legend(loc = 'upper right')\n",
    "plt.savefig('./Q4.png')\n",
    "plt.show()"
   ],
   "metadata": {
    "collapsed": false,
    "pycharm": {
     "name": "#%%\n",
     "is_executing": true
    }
   }
  },
  {
   "cell_type": "code",
   "execution_count": null,
   "outputs": [],
   "source": [
    "# import an image\n",
    "img = plt.imread(\"cat.jpg\")\n",
    "\n",
    "plt.imshow(img)\n",
    "plt.show()"
   ],
   "metadata": {
    "collapsed": false,
    "pycharm": {
     "name": "#%%\n",
     "is_executing": true
    }
   }
  },
  {
   "cell_type": "code",
   "execution_count": null,
   "outputs": [],
   "source": [
    "print(\"The Shape of the image is: \" + str(img.shape))"
   ],
   "metadata": {
    "collapsed": false,
    "pycharm": {
     "name": "#%%\n",
     "is_executing": true
    }
   }
  },
  {
   "cell_type": "code",
   "execution_count": null,
   "outputs": [],
   "source": [
    "iris = datasets.load_iris()\n",
    "X = iris.data\n",
    "Y = iris.target\n",
    "\n",
    "# First 2 feature dimensions\n",
    "X_2 = iris.data[:, :2]\n",
    "\n",
    "plt.figure(2, figsize=(8, 6))\n",
    "plt.clf()\n",
    "plt.scatter(X_2[:, 0], X_2[:, 1], c=Y, edgecolors='k')\n",
    "plt.title(\"First 2 Feature Dimensions of Iris Data\")\n",
    "plt.show()"
   ],
   "metadata": {
    "collapsed": false,
    "pycharm": {
     "name": "#%%\n",
     "is_executing": true
    }
   }
  },
  {
   "cell_type": "code",
   "execution_count": null,
   "outputs": [],
   "source": [
    "# First 3 feature dimensions\n",
    "X_3 = iris.data[:, :3]\n",
    "\n",
    "fig = plt.figure(1, figsize=(10, 8))\n",
    "ax = fig.add_subplot(111, projection=\"3d\", elev=-150, azim=110)\n",
    "ax.scatter(X_3[:, 0], X_3[:, 1], X_3[:, 2], c=Y)\n",
    "ax.set_title(\"First 3 Feature Dimensions\")\n",
    "plt.show()"
   ],
   "metadata": {
    "collapsed": false,
    "pycharm": {
     "name": "#%%\n",
     "is_executing": true
    }
   }
  },
  {
   "cell_type": "code",
   "execution_count": null,
   "outputs": [],
   "source": [
    "print(\"The shape of X is: \" + str(X.shape))\n",
    "print(\"This means there are 150 data points, each with 4 features.\")"
   ],
   "metadata": {
    "collapsed": false,
    "pycharm": {
     "name": "#%%\n",
     "is_executing": true
    }
   }
  },
  {
   "cell_type": "code",
   "execution_count": null,
   "outputs": [],
   "source": [
    "# Print the first 3 features of the first 5 data points\n",
    "print(X[:5, :3])"
   ],
   "metadata": {
    "collapsed": false,
    "pycharm": {
     "name": "#%%\n",
     "is_executing": true
    }
   }
  },
  {
   "cell_type": "code",
   "execution_count": null,
   "outputs": [],
   "source": [
    "# The mean and variance of the 3rd feature\n",
    "mean = np.mean(X[:, 2])\n",
    "var = np.var(X[:, 2])\n",
    "\n",
    "print(\"The mean of 3rd feature is: \" + str(mean))\n",
    "print(\"The variance of 3rd feature is: \" + str(var))"
   ],
   "metadata": {
    "collapsed": false,
    "pycharm": {
     "name": "#%%\n",
     "is_executing": true
    }
   }
  },
  {
   "cell_type": "code",
   "execution_count": null,
   "outputs": [],
   "source": [
    "# Linear projection on the 4 features of all data points using a weight vector and get the mean\n",
    "w = [1, 2, 3, 4]\n",
    "meanLinProj = np.mean(np.dot(X, np.transpose(w)))\n",
    "\n",
    "print(meanLinProj)"
   ],
   "metadata": {
    "collapsed": false,
    "pycharm": {
     "name": "#%%\n",
     "is_executing": true
    }
   }
  },
  {
   "cell_type": "code",
   "execution_count": null,
   "outputs": [],
   "source": [
    "# Randomly sample 4 data points by randomly choosing the row indices\n",
    "rand = np.random.randint(0, 150, size=4)\n",
    "print(X[rand, :])"
   ],
   "metadata": {
    "collapsed": false,
    "pycharm": {
     "name": "#%%\n",
     "is_executing": true
    }
   }
  },
  {
   "cell_type": "code",
   "execution_count": null,
   "outputs": [],
   "source": [
    "# Add one more feature (column) to X after the last feature. All new feature points are 1\n",
    "ones = np.ones((150, 1))\n",
    "new_X = np.hstack((X, ones))\n",
    "print(new_X[0, :])"
   ],
   "metadata": {
    "collapsed": false,
    "pycharm": {
     "name": "#%%\n",
     "is_executing": true
    }
   }
  },
  {
   "cell_type": "code",
   "execution_count": null,
   "outputs": [],
   "source": [
    "# Add one more data point (row) to X after the last data point. The new data point is the same as the first\n",
    "new_X = np.vstack((new_X, new_X[0,:]))\n",
    "print(new_X[0,:])"
   ],
   "metadata": {
    "collapsed": false,
    "pycharm": {
     "name": "#%%\n",
     "is_executing": true
    }
   }
  },
  {
   "cell_type": "code",
   "execution_count": null,
   "outputs": [],
   "source": [],
   "metadata": {
    "collapsed": false,
    "pycharm": {
     "name": "#%%\n",
     "is_executing": true
    }
   }
  }
 ],
 "metadata": {
  "kernelspec": {
   "display_name": "Python 3",
   "language": "python",
   "name": "python3"
  },
  "language_info": {
   "codemirror_mode": {
    "name": "ipython",
    "version": 2
   },
   "file_extension": ".py",
   "mimetype": "text/x-python",
   "name": "python",
   "nbconvert_exporter": "python",
   "pygments_lexer": "ipython2",
   "version": "2.7.6"
  }
 },
 "nbformat": 4,
 "nbformat_minor": 0
}