{
 "cells": [
  {
   "cell_type": "markdown",
   "id": "854ee5f5-b535-4c4a-9209-282ffeee0c35",
   "metadata": {
    "tags": []
   },
   "source": [
    "En Route Salute\n",
    "===============\n",
    "\n",
    "Commander Lambda loves efficiency and hates anything that wastes time. The Commander is a busy lamb, after all! Henchmen who identify sources of inefficiency and come up with ways to remove them are generously rewarded. You've spotted one such source, and you think solving it will help you build the reputation you need to get promoted.\n",
    "\n",
    "Every time the Commander's employees pass each other in the hall, each of them must stop and salute each other -- one at a time -- before resuming their path. A salute is five seconds long, so each exchange of salutes takes a full ten seconds (Commander Lambda's salute is a bit, er, involved). You think that by removing the salute requirement, you could save several collective hours of employee time per day. But first, you need to show the Commander how bad the problem really is.\n",
    "\n",
    "Write a program that counts how many salutes are exchanged during a typical walk along a hallway. The hall is represented by a string. For example:\n",
    "\"--->-><-><-->-\"\n",
    "\n",
    "Each hallway string will contain three different types of characters: '>', an employee walking to the right; '<', an employee walking to the left; and '-', an empty space. Every employee walks at the same speed either to right or to the left, according to their direction. Whenever two employees cross, each of them salutes the other. They then continue walking until they reach the end, finally leaving the hallway. In the above example, they salute 10 times.\n",
    "\n",
    "Write a function solution(s) which takes a string representing employees walking along a hallway and returns the number of times the employees will salute. s will contain at least 1 and at most 100 characters, each one of -, >, or <.\n",
    "\n",
    "Languages\n",
    "=========\n",
    "\n",
    "To provide a Python solution, edit solution.py\n",
    "To provide a Java solution, edit Solution.java\n",
    "\n",
    "Test cases\n",
    "==========\n",
    "Your code should pass the following test cases.\n",
    "Note that it may also be run against hidden test cases not shown here.\n",
    "\n",
    "-- Python cases --\n",
    "\n",
    "Input:\n",
    "solution.solution(\">----<\")\n",
    "Output:\n",
    "    2\n",
    "\n",
    "Input:\n",
    "solution.solution(\"<<>><\")\n",
    "Output:\n",
    "    4"
   ]
  },
  {
   "cell_type": "code",
   "execution_count": 1,
   "id": "99484c68-4754-4c4a-a185-f2fc820519f1",
   "metadata": {},
   "outputs": [],
   "source": [
    "def solution(hall):\n",
    "    # Your code here\n",
    "    # number of salutes\n",
    "    salutes = 0\n",
    "    \n",
    "    # loop through hallway left to right\n",
    "    for i in range(len(hall)):\n",
    "        # get the current char: either < > or -\n",
    "        currChar = hall[i]\n",
    "        \n",
    "        # decide which direction to move in hall\n",
    "        # < move left\n",
    "        # > move right\n",
    "        # - do nothing\n",
    "        if currChar == '<':\n",
    "            # move left in hall\n",
    "            for l in range(i):\n",
    "                nextChar = hall[l]\n",
    "                # >< is a meet\n",
    "                if nextChar == '>':\n",
    "                    salutes += 1\n",
    "        if currChar == '>':\n",
    "            # move right in hall\n",
    "            for r in range(i, len(hall)):\n",
    "                nextChar = hall[r]\n",
    "                # >< is a meet\n",
    "                if nextChar == '<':\n",
    "                    salutes += 1\n",
    "                    \n",
    "    return salutes"
   ]
  },
  {
   "cell_type": "code",
   "execution_count": 2,
   "id": "aa8ae9a5-cb73-4caa-877d-d89dd556281a",
   "metadata": {},
   "outputs": [
    {
     "data": {
      "text/plain": [
       "4"
      ]
     },
     "execution_count": 2,
     "metadata": {},
     "output_type": "execute_result"
    }
   ],
   "source": [
    "solution(\"<<>><\")"
   ]
  },
  {
   "cell_type": "code",
   "execution_count": 3,
   "id": "83b76866-9aef-4631-b4c5-0611edb1defb",
   "metadata": {},
   "outputs": [
    {
     "data": {
      "text/plain": [
       "2"
      ]
     },
     "execution_count": 3,
     "metadata": {},
     "output_type": "execute_result"
    }
   ],
   "source": [
    "solution(\">----<\")"
   ]
  }
 ],
 "metadata": {
  "kernelspec": {
   "display_name": "Python 3 (ipykernel)",
   "language": "python",
   "name": "python3"
  },
  "language_info": {
   "codemirror_mode": {
    "name": "ipython",
    "version": 3
   },
   "file_extension": ".py",
   "mimetype": "text/x-python",
   "name": "python",
   "nbconvert_exporter": "python",
   "pygments_lexer": "ipython3",
   "version": "3.8.10"
  }
 },
 "nbformat": 4,
 "nbformat_minor": 5
}
